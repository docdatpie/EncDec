{
 "cells": [
  {
   "cell_type": "markdown",
   "metadata": {},
   "source": [
    "# Encode and Decode strings\n",
    "\n",
    "The goal here is to implement the functions to encode a number in a (given base) string and vice-versa: decode the string into a number.\n",
    "\n",
    "The motivation to implement it is educational.\n",
    "After reading and thinking about the problem of shortening URLs (e.g, *bit.ly*) and the need for a Base-62 encode/decode service, I felt like I should handle such exercise.\n",
    "Help from [this stackoverflow post](http://stackoverflow.com/questions/1119722/base-62-conversion) was taken.\n",
    "\n",
    "That said, base-62 is a goal, but I should start with a base-2 encode/decode solution; then expand it to *62*."
   ]
  },
  {
   "cell_type": "code",
   "execution_count": 1,
   "metadata": {
    "collapsed": true
   },
   "outputs": [],
   "source": [
    "BASE = { 2 : '01',\n",
    "       62 : '0123456789abcdefghijklmnopqrstuvwxyzABCDEFGHIJKLMNOPQRSTUVWXYZ'#-_@/.:'\n",
    "       }"
   ]
  },
  {
   "cell_type": "code",
   "execution_count": 2,
   "metadata": {
    "collapsed": true
   },
   "outputs": [],
   "source": [
    "def encode(number,base=2):\n",
    "    '''\n",
    "    Encode 'number' to a string folowing 'base' length\n",
    "    '''\n",
    "    if number == 0:\n",
    "        return 0\n",
    "    base = int(base)\n",
    "    assert BASE.has_key(base)\n",
    "    num = number\n",
    "    alphabet = list(BASE[base])\n",
    "    arr = []\n",
    "    while num:\n",
    "        num,rem = divmod(num,base)\n",
    "        arr.append(alphabet[rem])\n",
    "    arr.reverse()\n",
    "    return ''.join(arr)"
   ]
  },
  {
   "cell_type": "code",
   "execution_count": 3,
   "metadata": {},
   "outputs": [
    {
     "data": {
      "text/plain": [
       "'2Bi'"
      ]
     },
     "execution_count": 3,
     "metadata": {},
     "output_type": "execute_result"
    }
   ],
   "source": [
    "encode(10000,62)"
   ]
  },
  {
   "cell_type": "code",
   "execution_count": 4,
   "metadata": {
    "collapsed": true
   },
   "outputs": [],
   "source": [
    "def decode(charcode,base=2):\n",
    "    '''\n",
    "    Decode 'charcode' to a number after 'base' conversion\n",
    "    '''\n",
    "    base = int(base)\n",
    "    assert BASE.has_key(base)\n",
    "    alphabet = list(BASE[base])\n",
    "    charcode = list(charcode)\n",
    "    charcode.reverse()\n",
    "    num = 0\n",
    "    for i,char in enumerate(charcode):\n",
    "        index = alphabet.index(char)\n",
    "        num += index*(base**i)\n",
    "    return num"
   ]
  },
  {
   "cell_type": "code",
   "execution_count": 5,
   "metadata": {},
   "outputs": [
    {
     "data": {
      "text/plain": [
       "7348410963"
      ]
     },
     "execution_count": 5,
     "metadata": {},
     "output_type": "execute_result"
    }
   ],
   "source": [
    "decode('81jbnt',62)"
   ]
  },
  {
   "cell_type": "markdown",
   "metadata": {},
   "source": [
    "## Another solution\n",
    "\n",
    "Worth noting is the following solution given by [SO user *Wolph*](http://stackoverflow.com/a/2549514/687896)"
   ]
  },
  {
   "cell_type": "code",
   "execution_count": 6,
   "metadata": {
    "collapsed": true
   },
   "outputs": [],
   "source": [
    "import string\n",
    "BASE_LIST = string.digits + string.letters #+ '-_@/.:'\n",
    "BASE_DICT = dict((c, i) for i, c in enumerate(BASE_LIST))\n",
    "\n",
    "def base_decode(string, reverse_base=BASE_DICT):\n",
    "    length = len(reverse_base)\n",
    "    ret = 0\n",
    "    for i, c in enumerate(string[::-1]):\n",
    "        ret += (length ** i) * reverse_base[c]\n",
    "\n",
    "    return ret\n",
    "\n",
    "def base_encode(integer, base=BASE_LIST):\n",
    "    if integer == 0:\n",
    "        return base[0]\n",
    "\n",
    "    length = len(base)\n",
    "    ret = ''\n",
    "    while integer != 0:\n",
    "        ret = base[integer % length] + ret\n",
    "        integer /= length\n",
    "\n",
    "    return ret"
   ]
  },
  {
   "cell_type": "code",
   "execution_count": 7,
   "metadata": {},
   "outputs": [
    {
     "data": {
      "text/plain": [
       "'2bI'"
      ]
     },
     "execution_count": 7,
     "metadata": {},
     "output_type": "execute_result"
    }
   ],
   "source": [
    "base_encode(10000)"
   ]
  },
  {
   "cell_type": "code",
   "execution_count": 8,
   "metadata": {},
   "outputs": [
    {
     "data": {
      "text/plain": [
       "10000"
      ]
     },
     "execution_count": 8,
     "metadata": {},
     "output_type": "execute_result"
    }
   ],
   "source": [
    "base_decode('2bI')"
   ]
  },
  {
   "cell_type": "code",
   "execution_count": 9,
   "metadata": {},
   "outputs": [
    {
     "data": {
      "text/plain": [
       "7354709073"
      ]
     },
     "execution_count": 9,
     "metadata": {},
     "output_type": "execute_result"
    }
   ],
   "source": [
    "base_decode('81jbnt')"
   ]
  },
  {
   "cell_type": "code",
   "execution_count": 10,
   "metadata": {},
   "outputs": [
    {
     "data": {
      "text/plain": [
       "'81jbnt'"
      ]
     },
     "execution_count": 10,
     "metadata": {},
     "output_type": "execute_result"
    }
   ],
   "source": [
    "base_encode(7354709073)"
   ]
  },
  {
   "cell_type": "code",
   "execution_count": 11,
   "metadata": {},
   "outputs": [
    {
     "name": "stdout",
     "output_type": "stream",
     "text": [
      "5585\n"
     ]
    }
   ],
   "source": [
    "url = 'http://stackoverflow.com/questions/1119722/base-62-conversion'\n",
    "num = sum( ord(c) for c in url )\n",
    "print num"
   ]
  },
  {
   "cell_type": "code",
   "execution_count": 12,
   "metadata": {},
   "outputs": [
    {
     "data": {
      "text/plain": [
       "'1s5'"
      ]
     },
     "execution_count": 12,
     "metadata": {},
     "output_type": "execute_result"
    }
   ],
   "source": [
    "encode(num,62)"
   ]
  },
  {
   "cell_type": "code",
   "execution_count": 13,
   "metadata": {},
   "outputs": [
    {
     "data": {
      "text/plain": [
       "'1S5'"
      ]
     },
     "execution_count": 13,
     "metadata": {},
     "output_type": "execute_result"
    }
   ],
   "source": [
    "base_encode(num)"
   ]
  },
  {
   "cell_type": "code",
   "execution_count": 14,
   "metadata": {},
   "outputs": [
    {
     "data": {
      "text/plain": [
       "'1S5'"
      ]
     },
     "execution_count": 14,
     "metadata": {},
     "output_type": "execute_result"
    }
   ],
   "source": [
    "BASE.update({62:string.digits + string.letters })\n",
    "encode(num,62)"
   ]
  },
  {
   "cell_type": "code",
   "execution_count": 15,
   "metadata": {},
   "outputs": [
    {
     "data": {
      "text/plain": [
       "'40069f7abd77245dab44a99913774265'"
      ]
     },
     "execution_count": 15,
     "metadata": {},
     "output_type": "execute_result"
    }
   ],
   "source": [
    "from random import randint as rand\n",
    "num = rand(0,1000)\n",
    "\n",
    "import hashlib\n",
    "md5 = hashlib.md5()\n",
    "md5.update(url + encode(num))\n",
    "md5.hexdigest()"
   ]
  },
  {
   "cell_type": "code",
   "execution_count": 16,
   "metadata": {
    "collapsed": true
   },
   "outputs": [],
   "source": [
    "barray = bytearray(list(md5.hexdigest()))"
   ]
  },
  {
   "cell_type": "code",
   "execution_count": 17,
   "metadata": {},
   "outputs": [
    {
     "data": {
      "text/plain": [
       "'qmmsv1e'"
      ]
     },
     "execution_count": 17,
     "metadata": {},
     "output_type": "execute_result"
    }
   ],
   "source": [
    "''.join( encode(bc,62) for bc in barray )[:7]"
   ]
  },
  {
   "cell_type": "code",
   "execution_count": null,
   "metadata": {
    "collapsed": true
   },
   "outputs": [],
   "source": []
  }
 ],
 "metadata": {
  "kernelspec": {
   "display_name": "Python 2",
   "language": "python",
   "name": "python2"
  },
  "language_info": {
   "codemirror_mode": {
    "name": "ipython",
    "version": 2
   },
   "file_extension": ".py",
   "mimetype": "text/x-python",
   "name": "python",
   "nbconvert_exporter": "python",
   "pygments_lexer": "ipython2",
   "version": "2.7.13"
  }
 },
 "nbformat": 4,
 "nbformat_minor": 2
}
